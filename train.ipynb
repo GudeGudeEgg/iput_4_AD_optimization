{
  "cells": [
    {
      "cell_type": "code",
      "execution_count": 1,
      "metadata": {
        "id": "OaHNIAP5DilH"
      },
      "outputs": [],
      "source": [
        "import numpy as np\n",
        "import pandas as pd\n",
        "import matplotlib.pyplot as plt\n",
        "import seaborn as sns\n",
        "import os\n",
        "\n",
        "def load_csv(path):\n",
        "  return pd.read_csv(path, dtype={'ロケーションID': 'string'})"
      ]
    },
    {
      "cell_type": "code",
      "execution_count": 2,
      "metadata": {
        "id": "OIs6yW4LDMKt"
      },
      "outputs": [],
      "source": [
        "# 元データの読み込み\n",
        "all_data_path = 'all.csv'\n",
        "df = load_csv(all_data_path)"
      ]
    },
    {
      "cell_type": "code",
      "execution_count": 3,
      "metadata": {
        "colab": {
          "base_uri": "https://localhost:8080/",
          "height": 206
        },
        "id": "DAG_K3TlENmp",
        "outputId": "80f4337a-8197-42e0-f4c5-c0041cdb8711"
      },
      "outputs": [
        {
          "data": {
            "text/html": [
              "<div>\n",
              "<style scoped>\n",
              "    .dataframe tbody tr th:only-of-type {\n",
              "        vertical-align: middle;\n",
              "    }\n",
              "\n",
              "    .dataframe tbody tr th {\n",
              "        vertical-align: top;\n",
              "    }\n",
              "\n",
              "    .dataframe thead th {\n",
              "        text-align: right;\n",
              "    }\n",
              "</style>\n",
              "<table border=\"1\" class=\"dataframe\">\n",
              "  <thead>\n",
              "    <tr style=\"text-align: right;\">\n",
              "      <th></th>\n",
              "      <th>category</th>\n",
              "      <th>sex</th>\n",
              "      <th>area</th>\n",
              "      <th>place</th>\n",
              "      <th>age</th>\n",
              "      <th>traffic</th>\n",
              "      <th>man</th>\n",
              "      <th>woman</th>\n",
              "      <th>0</th>\n",
              "      <th>10</th>\n",
              "      <th>20</th>\n",
              "      <th>30</th>\n",
              "      <th>40</th>\n",
              "      <th>50</th>\n",
              "      <th>60</th>\n",
              "      <th>time</th>\n",
              "      <th>month</th>\n",
              "      <th>day</th>\n",
              "      <th>roi</th>\n",
              "      <th>cost</th>\n",
              "    </tr>\n",
              "  </thead>\n",
              "  <tbody>\n",
              "    <tr>\n",
              "      <th>0</th>\n",
              "      <td>化粧品(0)</td>\n",
              "      <td>男(0)</td>\n",
              "      <td>栄</td>\n",
              "      <td>3</td>\n",
              "      <td>10</td>\n",
              "      <td>900</td>\n",
              "      <td>620</td>\n",
              "      <td>280</td>\n",
              "      <td>20</td>\n",
              "      <td>120</td>\n",
              "      <td>150</td>\n",
              "      <td>140</td>\n",
              "      <td>160</td>\n",
              "      <td>150</td>\n",
              "      <td>160</td>\n",
              "      <td>7</td>\n",
              "      <td>4</td>\n",
              "      <td>平日(0)</td>\n",
              "      <td>103.62</td>\n",
              "      <td>80</td>\n",
              "    </tr>\n",
              "    <tr>\n",
              "      <th>1</th>\n",
              "      <td>化粧品(0)</td>\n",
              "      <td>女(1)</td>\n",
              "      <td>仙台駅前</td>\n",
              "      <td>14</td>\n",
              "      <td>60</td>\n",
              "      <td>1180</td>\n",
              "      <td>770</td>\n",
              "      <td>410</td>\n",
              "      <td>20</td>\n",
              "      <td>150</td>\n",
              "      <td>200</td>\n",
              "      <td>190</td>\n",
              "      <td>210</td>\n",
              "      <td>200</td>\n",
              "      <td>210</td>\n",
              "      <td>8</td>\n",
              "      <td>4</td>\n",
              "      <td>平日(0)</td>\n",
              "      <td>101.53</td>\n",
              "      <td>100</td>\n",
              "    </tr>\n",
              "    <tr>\n",
              "      <th>2</th>\n",
              "      <td>化粧品(0)</td>\n",
              "      <td>どちらも(3)</td>\n",
              "      <td>仙台駅前</td>\n",
              "      <td>15</td>\n",
              "      <td>10</td>\n",
              "      <td>1200</td>\n",
              "      <td>980</td>\n",
              "      <td>220</td>\n",
              "      <td>20</td>\n",
              "      <td>160</td>\n",
              "      <td>200</td>\n",
              "      <td>190</td>\n",
              "      <td>220</td>\n",
              "      <td>200</td>\n",
              "      <td>210</td>\n",
              "      <td>9</td>\n",
              "      <td>4</td>\n",
              "      <td>平日(0)</td>\n",
              "      <td>126.29</td>\n",
              "      <td>90</td>\n",
              "    </tr>\n",
              "    <tr>\n",
              "      <th>3</th>\n",
              "      <td>化粧品(0)</td>\n",
              "      <td>女(1)</td>\n",
              "      <td>梅田</td>\n",
              "      <td>26</td>\n",
              "      <td>20</td>\n",
              "      <td>940</td>\n",
              "      <td>810</td>\n",
              "      <td>130</td>\n",
              "      <td>20</td>\n",
              "      <td>120</td>\n",
              "      <td>160</td>\n",
              "      <td>150</td>\n",
              "      <td>170</td>\n",
              "      <td>160</td>\n",
              "      <td>160</td>\n",
              "      <td>10</td>\n",
              "      <td>4</td>\n",
              "      <td>平日(0)</td>\n",
              "      <td>80.60</td>\n",
              "      <td>120</td>\n",
              "    </tr>\n",
              "    <tr>\n",
              "      <th>4</th>\n",
              "      <td>化粧品(0)</td>\n",
              "      <td>女(1)</td>\n",
              "      <td>梅田</td>\n",
              "      <td>23</td>\n",
              "      <td>10</td>\n",
              "      <td>560</td>\n",
              "      <td>480</td>\n",
              "      <td>80</td>\n",
              "      <td>10</td>\n",
              "      <td>70</td>\n",
              "      <td>100</td>\n",
              "      <td>90</td>\n",
              "      <td>100</td>\n",
              "      <td>100</td>\n",
              "      <td>90</td>\n",
              "      <td>11</td>\n",
              "      <td>4</td>\n",
              "      <td>平日(0)</td>\n",
              "      <td>67.21</td>\n",
              "      <td>70</td>\n",
              "    </tr>\n",
              "  </tbody>\n",
              "</table>\n",
              "</div>"
            ],
            "text/plain": [
              "  category      sex  area place  age  traffic  man  woman   0   10   20   30  \\\n",
              "0   化粧品(0)     男(0)     栄     3   10      900  620    280  20  120  150  140   \n",
              "1   化粧品(0)     女(1)  仙台駅前    14   60     1180  770    410  20  150  200  190   \n",
              "2   化粧品(0)  どちらも(3)  仙台駅前    15   10     1200  980    220  20  160  200  190   \n",
              "3   化粧品(0)     女(1)    梅田    26   20      940  810    130  20  120  160  150   \n",
              "4   化粧品(0)     女(1)    梅田    23   10      560  480     80  10   70  100   90   \n",
              "\n",
              "    40   50   60  time  month    day     roi  cost  \n",
              "0  160  150  160     7      4  平日(0)  103.62    80  \n",
              "1  210  200  210     8      4  平日(0)  101.53   100  \n",
              "2  220  200  210     9      4  平日(0)  126.29    90  \n",
              "3  170  160  160    10      4  平日(0)   80.60   120  \n",
              "4  100  100   90    11      4  平日(0)   67.21    70  "
            ]
          },
          "execution_count": 3,
          "metadata": {},
          "output_type": "execute_result"
        }
      ],
      "source": [
        "# column要素を変換\n",
        "columns_name = df.columns.values.tolist()\n",
        "change_name = ['category', 'sex', 'area', 'place', 'age', 'traffic', 'man', 'woman',\n",
        "               '0', '10', '20', '30', '40', '50', '60', 'time', 'month', 'day',\n",
        "               'roi', 'cost']\n",
        "\n",
        "for index, name in enumerate(columns_name):\n",
        "  df.rename(columns={name: change_name[index]}, inplace=True)\n",
        "\n",
        "df.head()"
      ]
    },
    {
      "cell_type": "code",
      "execution_count": 4,
      "metadata": {
        "colab": {
          "base_uri": "https://localhost:8080/",
          "height": 1000
        },
        "id": "57fsunapJryI",
        "outputId": "a3c5e2ec-593a-47e2-d23b-959c0cb574c3"
      },
      "outputs": [],
      "source": [
        "# # 値の変換\n",
        "# def replace_values(df, column_name):\n",
        "#     unique_values = dict.fromkeys(df[column_name].values.tolist())\n",
        "#     for index, name in enumerate(unique_values):\n",
        "#         df[column_name] = df[column_name].replace(name, index)\n",
        "\n",
        "# columns_to_replace = ['category', 'sex', 'day']\n",
        "# for column in columns_to_replace:\n",
        "#     replace_values(df, column)\n",
        "\n",
        "# df.head(10)"
      ]
    },
    {
      "cell_type": "code",
      "execution_count": 5,
      "metadata": {
        "id": "wdcPNmeQJsdf"
      },
      "outputs": [],
      "source": [
        "import lightgbm as lgb\n",
        "from sklearn.model_selection import train_test_split\n",
        "from sklearn.metrics import mean_squared_error, mean_absolute_error\n",
        "from catboost import CatBoostRegressor\n",
        "from sklearn.model_selection import GridSearchCV"
      ]
    },
    {
      "cell_type": "code",
      "execution_count": 6,
      "metadata": {},
      "outputs": [
        {
          "name": "stdout",
          "output_type": "stream",
          "text": [
            "Fitting 3 folds for each of 1 candidates, totalling 3 fits\n",
            "Best params: {'depth': 6, 'iterations': 800, 'learning_rate': 0.01}\n",
            "MSE: 19.188310456216595\n",
            "MAE: 3.37005409538549\n"
          ]
        },
        {
          "data": {
            "image/png": "[encoded data removed]",
            "text/plain": [
              "<Figure size 800x600 with 1 Axes>"
            ]
          },
          "metadata": {},
          "output_type": "display_data"
        }
      ],
      "source": [
        "# モデルの作成およびグリッドサーチによる適切なパラメータの探索\n",
        "X = df[['category', 'sex', 'place', 'age', 'time', 'month', 'day', 'cost']]\n",
        "y = df['roi']\n",
        "\n",
        "X_train, X_test, y_train, y_test = train_test_split(\n",
        "    X, y, test_size=0.2, random_state=42\n",
        ")\n",
        "\n",
        "cat_features = ['category', 'sex', 'place', 'time', 'month','day']\n",
        "\n",
        "base_model = CatBoostRegressor(random_seed=42, verbose=False)\n",
        "\n",
        "param_grid = {\n",
        "    # 'depth': [6, 8, 10],\n",
        "    # 'learning_rate': [0.01, 0.05, 0.1],\n",
        "    # 'iterations': [200, 500, 800],\n",
        "    'depth': [6],\n",
        "    'learning_rate': [0.01],\n",
        "    'iterations': [800],\n",
        "}\n",
        "\n",
        "grid = GridSearchCV(\n",
        "    estimator=base_model,\n",
        "    param_grid=param_grid,\n",
        "    cv=3,\n",
        "    scoring='neg_mean_squared_error',\n",
        "    n_jobs=-1,\n",
        "    verbose=1,\n",
        ")\n",
        "grid.fit(X_train, y_train, cat_features=cat_features)\n",
        "\n",
        "best_model = grid.best_estimator_\n",
        "print(\"Best params:\", grid.best_params_)\n",
        "best_model.save_model('best_model.cbm')\n",
        "\n",
        "y_pred = best_model.predict(X_test)\n",
        "print(\"MSE:\", mean_squared_error(y_test, y_pred))\n",
        "print(\"MAE:\", mean_absolute_error(y_test, y_pred))\n",
        "\n",
        "plt.figure(figsize=(8, 6))\n",
        "plt.scatter(y_test, y_pred, alpha=0.6)\n",
        "plt.plot([y.min(), y.max()], [y.min(), y.max()], 'r--')\n",
        "plt.xlabel('Actual ROI')\n",
        "plt.ylabel('Predicted ROI')\n",
        "plt.show()"
      ]
    },
    {
      "cell_type": "code",
      "execution_count": 7,
      "metadata": {
        "id": "pnrf7ZL_JsbG"
      },
      "outputs": [],
      "source": [
        "# X = df[['category', 'sex', 'age', 'cost', 'place', 'month']]\n",
        "# y = df['roi']\n",
        "\n",
        "# X_train, X_test, y_train, y_test = train_test_split(\n",
        "#     X, y, test_size=0.2, random_state=42\n",
        "# )\n",
        "\n",
        "# cat_features = ['category', 'sex', 'place', 'month']\n",
        "\n",
        "# base_model_2 = CatBoostRegressor(random_seed=42, verbose=False)\n",
        "\n",
        "# param_grid = {\n",
        "#     # 'depth': [6, 8, 10],\n",
        "#     # 'learning_rate': [0.01, 0.05, 0.1],\n",
        "#     # 'iterations': [200, 500, 800],\n",
        "#     'depth': [6],\n",
        "#     'learning_rate': [0.01],\n",
        "#     'iterations': [800],\n",
        "# }\n",
        "\n",
        "# grid = GridSearchCV(\n",
        "#     estimator=base_model_2,\n",
        "#     param_grid=param_grid,\n",
        "#     cv=3,\n",
        "#     scoring='neg_mean_squared_error',\n",
        "#     n_jobs=-1,\n",
        "#     verbose=1,\n",
        "# )\n",
        "# grid.fit(X_train, y_train, cat_features=cat_features)\n",
        "\n",
        "# best_model_2 = grid.best_estimator_\n",
        "# print(\"Best params:\", grid.best_params_)\n",
        "# best_model_2.save_model('best_model_place_and_month.cbm')\n",
        "\n",
        "# y_pred = best_model_2.predict(X_test)\n",
        "# print(\"MSE:\", mean_squared_error(y_test, y_pred))\n",
        "# print(\"MAE:\", mean_absolute_error(y_test, y_pred))\n",
        "\n",
        "# plt.figure(figsize=(8, 6))\n",
        "# plt.scatter(y_test, y_pred, alpha=0.6)\n",
        "# plt.plot([y.min(), y.max()], [y.min(), y.max()], 'r--')\n",
        "# plt.xlabel('Actual ROI')\n",
        "# plt.ylabel('Predicted ROI')\n",
        "# plt.title('Actual vs Predicted (CatBoost)')\n",
        "# plt.show()"
      ]
    },
    {
      "cell_type": "code",
      "execution_count": 8,
      "metadata": {
        "id": "J_6kfbMHJsYk"
      },
      "outputs": [],
      "source": [
        "\n",
        "# # 3) ユーザーが設定する具体的な入力値\n",
        "# category_input = '化粧品(0)'   # 宣伝する商品カテゴリ\n",
        "# sex_input      = '男(0)'      # 対象性別\n",
        "# age_input      = 30           # 対象年齢\n",
        "# cost_input     = 80           # 投資額(万円)\n",
        "\n",
        "# # 2) モデルのロード\n",
        "# best_model_1 = CatBoostRegressor()\n",
        "# best_model_1.load_model('best_model_1.cbm')\n",
        "\n",
        "# best_model_2 = CatBoostRegressor()\n",
        "# best_model_2.load_model('best_model_2.cbm')\n",
        "\n",
        "# # ===== 1) 「ロケーションのみ」での上位／下位5 =====\n",
        "# places = df['place'].unique()\n",
        "# df_place = pd.DataFrame({\n",
        "#     'category': [category_input] * len(places),\n",
        "#     'sex':      [sex_input]      * len(places),\n",
        "#     'age':      [age_input]      * len(places),\n",
        "#     'cost':     [cost_input]     * len(places),\n",
        "#     'place':    places\n",
        "# })\n",
        "# df_place['predicted_roi'] = best_model_1.predict(\n",
        "#     df_place[['category','sex','age','cost','place']]\n",
        "# )\n",
        "# top5_place    = df_place.nlargest(5, 'predicted_roi')\n",
        "# bottom5_place = df_place.nsmallest(5, 'predicted_roi')\n",
        "\n",
        "# print(\"=== 指定入力に対する上位5ロケーション ===\")\n",
        "# display(top5_place)\n",
        "# print(\"\\n=== 指定入力に対する下位5ロケーション ===\")\n",
        "# display(bottom5_place)\n",
        "\n",
        "\n",
        "# # ===== 2) 「月のみ」での上位／下位5 （ロケーション固定の場合） =====\n",
        "# # 例として最初のロケーションを固定\n",
        "# place_input = places[0]\n",
        "# months = df['month'].unique()\n",
        "# df_month = pd.DataFrame({\n",
        "#     'category': [category_input] * len(months),\n",
        "#     'sex':      [sex_input]      * len(months),\n",
        "#     'age':      [age_input]      * len(months),\n",
        "#     'cost':     [cost_input]     * len(months),\n",
        "#     'place':    [place_input]    * len(months),\n",
        "#     'month':    months\n",
        "# })\n",
        "# df_month['predicted_roi'] = best_model_2.predict(\n",
        "#     df_month[['category','sex','age','cost','place','month']]\n",
        "# )\n",
        "# top5_month    = df_month.nlargest(5, 'predicted_roi')\n",
        "# bottom5_month = df_month.nsmallest(5, 'predicted_roi')\n",
        "\n",
        "# print(\"\\n=== 指定入力（ロケーション固定）に対する月別 ROI 上位5 ===\")\n",
        "# display(top5_month)\n",
        "# print(\"\\n=== 指定入力（ロケーション固定）に対する月別 ROI 下位5 ===\")\n",
        "# display(bottom5_month)\n",
        "\n",
        "\n",
        "# # ===== 3) 「月＋ロケーション全組み合わせ」での上位／下位5 =====\n",
        "# months = df['month'].unique()\n",
        "# places = df['place'].unique()\n",
        "# comb   = list(itertools.product(months, places))\n",
        "# df_mpl = pd.DataFrame(comb, columns=['month','place'])\n",
        "# df_mpl['category'] = category_input\n",
        "# df_mpl['sex']      = sex_input\n",
        "# df_mpl['age']      = age_input\n",
        "# df_mpl['cost']     = cost_input\n",
        "\n",
        "# df_mpl['predicted_roi'] = best_model_2.predict(\n",
        "#     df_mpl[['category','sex','age','cost','place','month']]\n",
        "# )\n",
        "# top5_mpl    = df_mpl.nlargest(5, 'predicted_roi')\n",
        "# bottom5_mpl = df_mpl.nsmallest(5, 'predicted_roi')\n",
        "\n",
        "# print(\"\\n=== 指定入力に対する月＋ロケーション別 ROI 上位5 ===\")\n",
        "# display(top5_mpl)\n",
        "# print(\"\\n=== 指定入力に対する月＋ロケーション別 ROI 下位5 ===\")\n",
        "# display(bottom5_mpl)"
      ]
    },
    {
      "cell_type": "code",
      "execution_count": null,
      "metadata": {
        "id": "hKbWTsDiJsWU"
      },
      "outputs": [],
      "source": []
    },
    {
      "cell_type": "code",
      "execution_count": null,
      "metadata": {
        "id": "ddI_s1pWJsTz"
      },
      "outputs": [],
      "source": []
    },
    {
      "cell_type": "code",
      "execution_count": null,
      "metadata": {
        "id": "sTkCH5iHJsRK"
      },
      "outputs": [],
      "source": []
    },
    {
      "cell_type": "code",
      "execution_count": null,
      "metadata": {
        "id": "AFXbP4mkJsOR"
      },
      "outputs": [],
      "source": []
    },
    {
      "cell_type": "code",
      "execution_count": null,
      "metadata": {
        "id": "jQEEsOVBJsF_"
      },
      "outputs": [],
      "source": []
    },
    {
      "cell_type": "code",
      "execution_count": null,
      "metadata": {
        "id": "2anN83a-GRts"
      },
      "outputs": [],
      "source": []
    },
    {
      "cell_type": "code",
      "execution_count": null,
      "metadata": {
        "id": "t67wm5bbENhu"
      },
      "outputs": [],
      "source": []
    },
    {
      "cell_type": "code",
      "execution_count": null,
      "metadata": {
        "id": "ZZGm8s28ENfh"
      },
      "outputs": [],
      "source": []
    },
    {
      "cell_type": "code",
      "execution_count": null,
      "metadata": {
        "id": "QWf7SSYPENc2"
      },
      "outputs": [],
      "source": []
    },
    {
      "cell_type": "code",
      "execution_count": null,
      "metadata": {
        "id": "0nDTR5l0ENa3"
      },
      "outputs": [],
      "source": []
    },
    {
      "cell_type": "code",
      "execution_count": null,
      "metadata": {
        "id": "27l8sQL-ENYW"
      },
      "outputs": [],
      "source": []
    },
    {
      "cell_type": "code",
      "execution_count": null,
      "metadata": {
        "id": "ZBu4KOD4ENVd"
      },
      "outputs": [],
      "source": []
    },
    {
      "cell_type": "code",
      "execution_count": null,
      "metadata": {
        "id": "KsoQa2ulENTA"
      },
      "outputs": [],
      "source": []
    },
    {
      "cell_type": "code",
      "execution_count": null,
      "metadata": {
        "id": "kxKEB-jQENQW"
      },
      "outputs": [],
      "source": []
    },
    {
      "cell_type": "code",
      "execution_count": null,
      "metadata": {
        "id": "JFAaDjIVENNu"
      },
      "outputs": [],
      "source": []
    },
    {
      "cell_type": "code",
      "execution_count": null,
      "metadata": {
        "id": "CRJHatzsENEK"
      },
      "outputs": [],
      "source": []
    },
    {
      "cell_type": "code",
      "execution_count": null,
      "metadata": {
        "id": "fsIEWLVtJvti"
      },
      "outputs": [],
      "source": []
    },
    {
      "cell_type": "code",
      "execution_count": null,
      "metadata": {
        "id": "07_woCtuJvp5"
      },
      "outputs": [],
      "source": []
    },
    {
      "cell_type": "code",
      "execution_count": null,
      "metadata": {
        "id": "5B1-FZueJvmf"
      },
      "outputs": [],
      "source": []
    },
    {
      "cell_type": "code",
      "execution_count": null,
      "metadata": {
        "id": "Eyl_tJb3Jvb4"
      },
      "outputs": [],
      "source": []
    },
    {
      "cell_type": "code",
      "execution_count": null,
      "metadata": {
        "id": "xrrYquA-JvZQ"
      },
      "outputs": [],
      "source": []
    },
    {
      "cell_type": "code",
      "execution_count": null,
      "metadata": {
        "id": "JmbGgpI7JvT8"
      },
      "outputs": [],
      "source": []
    },
    {
      "cell_type": "code",
      "execution_count": null,
      "metadata": {
        "id": "Fy0EJSFYJvRb"
      },
      "outputs": [],
      "source": []
    },
    {
      "cell_type": "code",
      "execution_count": null,
      "metadata": {
        "id": "ffiHKCajJvO7"
      },
      "outputs": [],
      "source": []
    },
    {
      "cell_type": "code",
      "execution_count": null,
      "metadata": {
        "id": "tOjt3eXtJvMH"
      },
      "outputs": [],
      "source": []
    },
    {
      "cell_type": "code",
      "execution_count": null,
      "metadata": {
        "id": "lmnfJnPbJvJe"
      },
      "outputs": [],
      "source": []
    },
    {
      "cell_type": "code",
      "execution_count": null,
      "metadata": {
        "id": "A7LlMTvZJvG1"
      },
      "outputs": [],
      "source": []
    },
    {
      "cell_type": "code",
      "execution_count": null,
      "metadata": {
        "id": "UcQzKwn6JvEg"
      },
      "outputs": [],
      "source": []
    },
    {
      "cell_type": "code",
      "execution_count": null,
      "metadata": {
        "id": "Dt76SAngJvBt"
      },
      "outputs": [],
      "source": []
    },
    {
      "cell_type": "code",
      "execution_count": null,
      "metadata": {
        "id": "qXR3_PKbJu9h"
      },
      "outputs": [],
      "source": []
    },
    {
      "cell_type": "code",
      "execution_count": null,
      "metadata": {
        "id": "Zc47vCxeJu6z"
      },
      "outputs": [],
      "source": []
    }
  ],
  "metadata": {
    "colab": {
      "provenance": []
    },
    "kernelspec": {
      "display_name": "venv",
      "language": "python",
      "name": "python3"
    },
    "language_info": {
      "codemirror_mode": {
        "name": "ipython",
        "version": 3
      },
      "file_extension": ".py",
      "mimetype": "text/x-python",
      "name": "python",
      "nbconvert_exporter": "python",
      "pygments_lexer": "ipython3",
      "version": "3.12.8"
    }
  },
  "nbformat": 4,
  "nbformat_minor": 0
}
